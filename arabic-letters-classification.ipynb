{
 "cells": [
  {
   "cell_type": "markdown",
   "id": "8c694fa9",
   "metadata": {
    "papermill": {
     "duration": 0.007414,
     "end_time": "2023-06-25T13:53:46.667088",
     "exception": false,
     "start_time": "2023-06-25T13:53:46.659674",
     "status": "completed"
    },
    "tags": []
   },
   "source": [
    "# Notebook's content\n",
    "1. [Importing libraries](#0)\n",
    "2. [Split dataset](#1)\n",
    "3. [Loading data](#2)\n",
    "3. [Dataset overview](#3)\n",
    "4. [Images pre-processing](#4)\n",
    "5. [CNN Model](#5)"
   ]
  },
  {
   "cell_type": "markdown",
   "id": "2928be5d",
   "metadata": {
    "papermill": {
     "duration": 0.006637,
     "end_time": "2023-06-25T13:53:46.680940",
     "exception": false,
     "start_time": "2023-06-25T13:53:46.674303",
     "status": "completed"
    },
    "tags": []
   },
   "source": [
    "<a id=\"0\"></a> <br>\n",
    "# Importing libraries"
   ]
  },
  {
   "cell_type": "code",
   "execution_count": 1,
   "id": "e9a68698",
   "metadata": {
    "_cell_guid": "b1076dfc-b9ad-4769-8c92-a6c4dae69d19",
    "_uuid": "8f2839f25d086af736a60e9eeb907d3b93b6e0e5",
    "execution": {
     "iopub.execute_input": "2023-06-25T13:53:46.696521Z",
     "iopub.status.busy": "2023-06-25T13:53:46.695846Z",
     "iopub.status.idle": "2023-06-25T13:53:55.795475Z",
     "shell.execute_reply": "2023-06-25T13:53:55.794459Z"
    },
    "papermill": {
     "duration": 9.111218,
     "end_time": "2023-06-25T13:53:55.798852",
     "exception": false,
     "start_time": "2023-06-25T13:53:46.687634",
     "status": "completed"
    },
    "tags": []
   },
   "outputs": [
    {
     "name": "stderr",
     "output_type": "stream",
     "text": [
      "/opt/conda/lib/python3.10/site-packages/tensorflow_io/python/ops/__init__.py:98: UserWarning: unable to load libtensorflow_io_plugins.so: unable to open file: libtensorflow_io_plugins.so, from paths: ['/opt/conda/lib/python3.10/site-packages/tensorflow_io/python/ops/libtensorflow_io_plugins.so']\n",
      "caused by: ['/opt/conda/lib/python3.10/site-packages/tensorflow_io/python/ops/libtensorflow_io_plugins.so: undefined symbol: _ZN3tsl6StatusC1EN10tensorflow5error4CodeESt17basic_string_viewIcSt11char_traitsIcEENS_14SourceLocationE']\n",
      "  warnings.warn(f\"unable to load libtensorflow_io_plugins.so: {e}\")\n",
      "/opt/conda/lib/python3.10/site-packages/tensorflow_io/python/ops/__init__.py:104: UserWarning: file system plugins are not loaded: unable to open file: libtensorflow_io.so, from paths: ['/opt/conda/lib/python3.10/site-packages/tensorflow_io/python/ops/libtensorflow_io.so']\n",
      "caused by: ['/opt/conda/lib/python3.10/site-packages/tensorflow_io/python/ops/libtensorflow_io.so: undefined symbol: _ZTVN10tensorflow13GcsFileSystemE']\n",
      "  warnings.warn(f\"file system plugins are not loaded: {e}\")\n"
     ]
    }
   ],
   "source": [
    "# First we will import neccessary libraries\n",
    "import pandas as pd\n",
    "import numpy as np\n",
    "import tensorflow as tf\n",
    "import os\n",
    "import cv2 as cv\n",
    "from tensorflow import keras\n",
    "from sklearn.model_selection import train_test_split\n",
    "from sklearn import preprocessing\n",
    "import matplotlib.pyplot as plt\n",
    "import numpy as np\n",
    "import tensorflow as tf\n",
    "from tensorflow.keras.layers import Dense, Conv2D, Flatten, Dropout, MaxPooling2D\n",
    "from tensorflow.keras.models import Sequential\n",
    "from tensorflow.keras.preprocessing.image import ImageDataGenerator\n",
    "from sklearn.model_selection import train_test_split\n",
    "from keras.layers import Lambda\n",
    "from PIL import Image"
   ]
  },
  {
   "cell_type": "markdown",
   "id": "909d3edd",
   "metadata": {
    "papermill": {
     "duration": 0.009595,
     "end_time": "2023-06-25T13:53:55.818889",
     "exception": false,
     "start_time": "2023-06-25T13:53:55.809294",
     "status": "completed"
    },
    "tags": []
   },
   "source": [
    "# Split dataset into train , val and test sets\n",
    "<a id=\"1\"></a> <br>"
   ]
  },
  {
   "cell_type": "code",
   "execution_count": 2,
   "id": "37c5cf43",
   "metadata": {
    "execution": {
     "iopub.execute_input": "2023-06-25T13:53:55.840200Z",
     "iopub.status.busy": "2023-06-25T13:53:55.839309Z",
     "iopub.status.idle": "2023-06-25T13:54:53.265797Z",
     "shell.execute_reply": "2023-06-25T13:54:53.264843Z"
    },
    "papermill": {
     "duration": 57.439744,
     "end_time": "2023-06-25T13:54:53.268351",
     "exception": false,
     "start_time": "2023-06-25T13:53:55.828607",
     "status": "completed"
    },
    "tags": []
   },
   "outputs": [],
   "source": [
    "import os\n",
    "import shutil\n",
    "from sklearn.model_selection import train_test_split\n",
    "\n",
    "# Path to the dataset directory\n",
    "dataset_dir = '/kaggle/input/arabic-letters/alphabet'\n",
    "\n",
    "# Output directory for train, validation, and test sets\n",
    "output_dir = '/kaggle/working/dataset'\n",
    "os.makedirs(output_dir, exist_ok=True)\n",
    "\n",
    "# Splitting the dataset into train, validation, and test sets\n",
    "train_dir = os.path.join(output_dir, 'train')\n",
    "val_dir = os.path.join(output_dir, 'val')\n",
    "test_dir = os.path.join(output_dir, 'test')\n",
    "os.makedirs(train_dir, exist_ok=True)\n",
    "os.makedirs(val_dir, exist_ok=True)\n",
    "os.makedirs(test_dir, exist_ok=True)\n",
    "\n",
    "# Splitting the dataset into train, val, and test sets\n",
    "for class_name in os.listdir(dataset_dir):\n",
    "    class_dir = os.path.join(dataset_dir, class_name)\n",
    "    images = os.listdir(class_dir)\n",
    "    \n",
    "    # Split images into train, val, and test sets\n",
    "    train_images, val_test_images = train_test_split(images, test_size=0.3, random_state=42)\n",
    "    val_images, test_images = train_test_split(val_test_images, test_size=0.7, random_state=42)\n",
    "    \n",
    "    # Create class directories in train, val, and test sets\n",
    "    class_train_dir = os.path.join(train_dir, class_name)\n",
    "    class_val_dir = os.path.join(val_dir, class_name)\n",
    "    class_test_dir = os.path.join(test_dir, class_name)\n",
    "    os.makedirs(class_train_dir, exist_ok=True)\n",
    "    os.makedirs(class_val_dir, exist_ok=True)\n",
    "    os.makedirs(class_test_dir, exist_ok=True)\n",
    "    \n",
    "    # Copy images to their respective directories\n",
    "    for image in train_images:\n",
    "        src = os.path.join(class_dir, image)\n",
    "        dst = os.path.join(class_train_dir, image)\n",
    "        shutil.copyfile(src, dst)\n",
    "        \n",
    "    for image in val_images:\n",
    "        src = os.path.join(class_dir, image)\n",
    "        dst = os.path.join(class_val_dir, image)\n",
    "        shutil.copyfile(src, dst)\n",
    "        \n",
    "    for image in test_images:\n",
    "        src = os.path.join(class_dir, image)\n",
    "        dst = os.path.join(class_test_dir, image)\n",
    "        shutil.copyfile(src, dst)\n"
   ]
  },
  {
   "cell_type": "markdown",
   "id": "a68d9c67",
   "metadata": {
    "papermill": {
     "duration": 0.007078,
     "end_time": "2023-06-25T13:54:53.283057",
     "exception": false,
     "start_time": "2023-06-25T13:54:53.275979",
     "status": "completed"
    },
    "tags": []
   },
   "source": [
    "\n"
   ]
  },
  {
   "cell_type": "markdown",
   "id": "60698d9f",
   "metadata": {
    "papermill": {
     "duration": 0.007204,
     "end_time": "2023-06-25T13:54:53.297182",
     "exception": false,
     "start_time": "2023-06-25T13:54:53.289978",
     "status": "completed"
    },
    "tags": []
   },
   "source": [
    "<a id=\"2\"></a> <br>"
   ]
  },
  {
   "cell_type": "code",
   "execution_count": 3,
   "id": "c9a5d4d6",
   "metadata": {
    "execution": {
     "iopub.execute_input": "2023-06-25T13:54:53.313379Z",
     "iopub.status.busy": "2023-06-25T13:54:53.313041Z",
     "iopub.status.idle": "2023-06-25T13:54:53.347991Z",
     "shell.execute_reply": "2023-06-25T13:54:53.347069Z"
    },
    "papermill": {
     "duration": 0.045597,
     "end_time": "2023-06-25T13:54:53.350083",
     "exception": false,
     "start_time": "2023-06-25T13:54:53.304486",
     "status": "completed"
    },
    "tags": []
   },
   "outputs": [],
   "source": [
    "#load train data\n",
    "path = \"/kaggle/working/dataset/train\"\n",
    "key_value= dict()\n",
    "for i in os.listdir(path):\n",
    "    if os.path.isdir(os.path.join(path, i)):\n",
    "        key_value[i] = os.listdir(os.path.join(path, i))\n",
    "dft = []\n",
    "for key in key_value.keys():\n",
    "    for j in key_value[key]:\n",
    "        dft.append([key,os.path.join(path, key, j)])\n",
    "df1 = pd.DataFrame(dft,columns=('label','path'))"
   ]
  },
  {
   "cell_type": "markdown",
   "id": "8e2ac66d",
   "metadata": {
    "papermill": {
     "duration": 0.006789,
     "end_time": "2023-06-25T13:54:53.364001",
     "exception": false,
     "start_time": "2023-06-25T13:54:53.357212",
     "status": "completed"
    },
    "tags": []
   },
   "source": [
    "<a id=\"3\"></a> <br>"
   ]
  },
  {
   "cell_type": "code",
   "execution_count": 4,
   "id": "3c4f7000",
   "metadata": {
    "execution": {
     "iopub.execute_input": "2023-06-25T13:54:53.379027Z",
     "iopub.status.busy": "2023-06-25T13:54:53.378741Z",
     "iopub.status.idle": "2023-06-25T13:54:53.396319Z",
     "shell.execute_reply": "2023-06-25T13:54:53.395272Z"
    },
    "papermill": {
     "duration": 0.028221,
     "end_time": "2023-06-25T13:54:53.399066",
     "exception": false,
     "start_time": "2023-06-25T13:54:53.370845",
     "status": "completed"
    },
    "tags": []
   },
   "outputs": [
    {
     "data": {
      "text/html": [
       "<div>\n",
       "<style scoped>\n",
       "    .dataframe tbody tr th:only-of-type {\n",
       "        vertical-align: middle;\n",
       "    }\n",
       "\n",
       "    .dataframe tbody tr th {\n",
       "        vertical-align: top;\n",
       "    }\n",
       "\n",
       "    .dataframe thead th {\n",
       "        text-align: right;\n",
       "    }\n",
       "</style>\n",
       "<table border=\"1\" class=\"dataframe\">\n",
       "  <thead>\n",
       "    <tr style=\"text-align: right;\">\n",
       "      <th></th>\n",
       "      <th>label</th>\n",
       "      <th>path</th>\n",
       "    </tr>\n",
       "  </thead>\n",
       "  <tbody>\n",
       "    <tr>\n",
       "      <th>0</th>\n",
       "      <td>ل</td>\n",
       "      <td>/kaggle/working/dataset/train/ل/l245.png</td>\n",
       "    </tr>\n",
       "    <tr>\n",
       "      <th>1</th>\n",
       "      <td>ل</td>\n",
       "      <td>/kaggle/working/dataset/train/ل/l254.png</td>\n",
       "    </tr>\n",
       "    <tr>\n",
       "      <th>2</th>\n",
       "      <td>ل</td>\n",
       "      <td>/kaggle/working/dataset/train/ل/l65.png</td>\n",
       "    </tr>\n",
       "    <tr>\n",
       "      <th>3</th>\n",
       "      <td>ل</td>\n",
       "      <td>/kaggle/working/dataset/train/ل/l32.png</td>\n",
       "    </tr>\n",
       "    <tr>\n",
       "      <th>4</th>\n",
       "      <td>ل</td>\n",
       "      <td>/kaggle/working/dataset/train/ل/l41.png</td>\n",
       "    </tr>\n",
       "    <tr>\n",
       "      <th>...</th>\n",
       "      <td>...</td>\n",
       "      <td>...</td>\n",
       "    </tr>\n",
       "    <tr>\n",
       "      <th>6084</th>\n",
       "      <td>ظ</td>\n",
       "      <td>/kaggle/working/dataset/train/ظ/dhad45.png</td>\n",
       "    </tr>\n",
       "    <tr>\n",
       "      <th>6085</th>\n",
       "      <td>ظ</td>\n",
       "      <td>/kaggle/working/dataset/train/ظ/dhad148.png</td>\n",
       "    </tr>\n",
       "    <tr>\n",
       "      <th>6086</th>\n",
       "      <td>ظ</td>\n",
       "      <td>/kaggle/working/dataset/train/ظ/dhad189.jpg</td>\n",
       "    </tr>\n",
       "    <tr>\n",
       "      <th>6087</th>\n",
       "      <td>ظ</td>\n",
       "      <td>/kaggle/working/dataset/train/ظ/dhad133.png</td>\n",
       "    </tr>\n",
       "    <tr>\n",
       "      <th>6088</th>\n",
       "      <td>ظ</td>\n",
       "      <td>/kaggle/working/dataset/train/ظ/dhad125.png</td>\n",
       "    </tr>\n",
       "  </tbody>\n",
       "</table>\n",
       "<p>6089 rows × 2 columns</p>\n",
       "</div>"
      ],
      "text/plain": [
       "     label                                         path\n",
       "0        ل     /kaggle/working/dataset/train/ل/l245.png\n",
       "1        ل     /kaggle/working/dataset/train/ل/l254.png\n",
       "2        ل      /kaggle/working/dataset/train/ل/l65.png\n",
       "3        ل      /kaggle/working/dataset/train/ل/l32.png\n",
       "4        ل      /kaggle/working/dataset/train/ل/l41.png\n",
       "...    ...                                          ...\n",
       "6084     ظ   /kaggle/working/dataset/train/ظ/dhad45.png\n",
       "6085     ظ  /kaggle/working/dataset/train/ظ/dhad148.png\n",
       "6086     ظ  /kaggle/working/dataset/train/ظ/dhad189.jpg\n",
       "6087     ظ  /kaggle/working/dataset/train/ظ/dhad133.png\n",
       "6088     ظ  /kaggle/working/dataset/train/ظ/dhad125.png\n",
       "\n",
       "[6089 rows x 2 columns]"
      ]
     },
     "execution_count": 4,
     "metadata": {},
     "output_type": "execute_result"
    }
   ],
   "source": [
    "df1"
   ]
  },
  {
   "cell_type": "code",
   "execution_count": 5,
   "id": "25978685",
   "metadata": {
    "execution": {
     "iopub.execute_input": "2023-06-25T13:54:53.415036Z",
     "iopub.status.busy": "2023-06-25T13:54:53.414778Z",
     "iopub.status.idle": "2023-06-25T13:54:53.437300Z",
     "shell.execute_reply": "2023-06-25T13:54:53.436400Z"
    },
    "papermill": {
     "duration": 0.032605,
     "end_time": "2023-06-25T13:54:53.439418",
     "exception": false,
     "start_time": "2023-06-25T13:54:53.406813",
     "status": "completed"
    },
    "tags": []
   },
   "outputs": [
    {
     "data": {
      "text/html": [
       "<div>\n",
       "<style scoped>\n",
       "    .dataframe tbody tr th:only-of-type {\n",
       "        vertical-align: middle;\n",
       "    }\n",
       "\n",
       "    .dataframe tbody tr th {\n",
       "        vertical-align: top;\n",
       "    }\n",
       "\n",
       "    .dataframe thead th {\n",
       "        text-align: right;\n",
       "    }\n",
       "</style>\n",
       "<table border=\"1\" class=\"dataframe\">\n",
       "  <thead>\n",
       "    <tr style=\"text-align: right;\">\n",
       "      <th></th>\n",
       "      <th>label</th>\n",
       "      <th>path</th>\n",
       "    </tr>\n",
       "  </thead>\n",
       "  <tbody>\n",
       "    <tr>\n",
       "      <th>count</th>\n",
       "      <td>6089</td>\n",
       "      <td>6089</td>\n",
       "    </tr>\n",
       "    <tr>\n",
       "      <th>unique</th>\n",
       "      <td>28</td>\n",
       "      <td>6089</td>\n",
       "    </tr>\n",
       "    <tr>\n",
       "      <th>top</th>\n",
       "      <td>ص</td>\n",
       "      <td>/kaggle/working/dataset/train/ل/l245.png</td>\n",
       "    </tr>\n",
       "    <tr>\n",
       "      <th>freq</th>\n",
       "      <td>275</td>\n",
       "      <td>1</td>\n",
       "    </tr>\n",
       "  </tbody>\n",
       "</table>\n",
       "</div>"
      ],
      "text/plain": [
       "       label                                      path\n",
       "count   6089                                      6089\n",
       "unique    28                                      6089\n",
       "top        ص  /kaggle/working/dataset/train/ل/l245.png\n",
       "freq     275                                         1"
      ]
     },
     "execution_count": 5,
     "metadata": {},
     "output_type": "execute_result"
    }
   ],
   "source": [
    "df1.describe()"
   ]
  },
  {
   "cell_type": "code",
   "execution_count": 6,
   "id": "442f4cf9",
   "metadata": {
    "execution": {
     "iopub.execute_input": "2023-06-25T13:54:53.456083Z",
     "iopub.status.busy": "2023-06-25T13:54:53.455818Z",
     "iopub.status.idle": "2023-06-25T13:54:53.473937Z",
     "shell.execute_reply": "2023-06-25T13:54:53.472980Z"
    },
    "papermill": {
     "duration": 0.028952,
     "end_time": "2023-06-25T13:54:53.476142",
     "exception": false,
     "start_time": "2023-06-25T13:54:53.447190",
     "status": "completed"
    },
    "tags": []
   },
   "outputs": [
    {
     "data": {
      "text/html": [
       "<div>\n",
       "<style scoped>\n",
       "    .dataframe tbody tr th:only-of-type {\n",
       "        vertical-align: middle;\n",
       "    }\n",
       "\n",
       "    .dataframe tbody tr th {\n",
       "        vertical-align: top;\n",
       "    }\n",
       "\n",
       "    .dataframe thead th {\n",
       "        text-align: right;\n",
       "    }\n",
       "</style>\n",
       "<table border=\"1\" class=\"dataframe\">\n",
       "  <thead>\n",
       "    <tr style=\"text-align: right;\">\n",
       "      <th></th>\n",
       "      <th>label</th>\n",
       "      <th>path2</th>\n",
       "    </tr>\n",
       "  </thead>\n",
       "  <tbody>\n",
       "    <tr>\n",
       "      <th>0</th>\n",
       "      <td>ل</td>\n",
       "      <td>/kaggle/working/dataset/val/ل/l104.png</td>\n",
       "    </tr>\n",
       "    <tr>\n",
       "      <th>1</th>\n",
       "      <td>ل</td>\n",
       "      <td>/kaggle/working/dataset/val/ل/l93.png</td>\n",
       "    </tr>\n",
       "    <tr>\n",
       "      <th>2</th>\n",
       "      <td>ل</td>\n",
       "      <td>/kaggle/working/dataset/val/ل/l20.png</td>\n",
       "    </tr>\n",
       "    <tr>\n",
       "      <th>3</th>\n",
       "      <td>ل</td>\n",
       "      <td>/kaggle/working/dataset/val/ل/l10.png</td>\n",
       "    </tr>\n",
       "    <tr>\n",
       "      <th>4</th>\n",
       "      <td>ل</td>\n",
       "      <td>/kaggle/working/dataset/val/ل/l271.jpg</td>\n",
       "    </tr>\n",
       "    <tr>\n",
       "      <th>...</th>\n",
       "      <td>...</td>\n",
       "      <td>...</td>\n",
       "    </tr>\n",
       "    <tr>\n",
       "      <th>769</th>\n",
       "      <td>ظ</td>\n",
       "      <td>/kaggle/working/dataset/val/ظ/dhad165.jpg</td>\n",
       "    </tr>\n",
       "    <tr>\n",
       "      <th>770</th>\n",
       "      <td>ظ</td>\n",
       "      <td>/kaggle/working/dataset/val/ظ/dhad1.png</td>\n",
       "    </tr>\n",
       "    <tr>\n",
       "      <th>771</th>\n",
       "      <td>ظ</td>\n",
       "      <td>/kaggle/working/dataset/val/ظ/dhad5.png</td>\n",
       "    </tr>\n",
       "    <tr>\n",
       "      <th>772</th>\n",
       "      <td>ظ</td>\n",
       "      <td>/kaggle/working/dataset/val/ظ/dhad79.png</td>\n",
       "    </tr>\n",
       "    <tr>\n",
       "      <th>773</th>\n",
       "      <td>ظ</td>\n",
       "      <td>/kaggle/working/dataset/val/ظ/dhad299.jpg</td>\n",
       "    </tr>\n",
       "  </tbody>\n",
       "</table>\n",
       "<p>774 rows × 2 columns</p>\n",
       "</div>"
      ],
      "text/plain": [
       "    label                                      path2\n",
       "0       ل     /kaggle/working/dataset/val/ل/l104.png\n",
       "1       ل      /kaggle/working/dataset/val/ل/l93.png\n",
       "2       ل      /kaggle/working/dataset/val/ل/l20.png\n",
       "3       ل      /kaggle/working/dataset/val/ل/l10.png\n",
       "4       ل     /kaggle/working/dataset/val/ل/l271.jpg\n",
       "..    ...                                        ...\n",
       "769     ظ  /kaggle/working/dataset/val/ظ/dhad165.jpg\n",
       "770     ظ    /kaggle/working/dataset/val/ظ/dhad1.png\n",
       "771     ظ    /kaggle/working/dataset/val/ظ/dhad5.png\n",
       "772     ظ   /kaggle/working/dataset/val/ظ/dhad79.png\n",
       "773     ظ  /kaggle/working/dataset/val/ظ/dhad299.jpg\n",
       "\n",
       "[774 rows x 2 columns]"
      ]
     },
     "execution_count": 6,
     "metadata": {},
     "output_type": "execute_result"
    }
   ],
   "source": [
    "#load val data\n",
    "path2 = \"/kaggle/working/dataset/val\"\n",
    "key_value= dict()\n",
    "for i in os.listdir(path2):\n",
    "    if os.path.isdir(os.path.join(path2, i)):\n",
    "        key_value[i] = os.listdir(os.path.join(path2, i))\n",
    "dfv = []\n",
    "for key in key_value.keys():\n",
    "    for j in key_value[key]:\n",
    "        dfv.append([key,os.path.join(path2, key, j)])\n",
    "df2 = pd.DataFrame(dfv,columns=('label','path2'))\n",
    "df2"
   ]
  },
  {
   "cell_type": "markdown",
   "id": "3c622ff1",
   "metadata": {
    "papermill": {
     "duration": 0.008119,
     "end_time": "2023-06-25T13:54:53.491986",
     "exception": false,
     "start_time": "2023-06-25T13:54:53.483867",
     "status": "completed"
    },
    "tags": []
   },
   "source": [
    "\n",
    "<a id=\"4\"></a> <br>\n",
    "# Images pre-processing"
   ]
  },
  {
   "cell_type": "code",
   "execution_count": 7,
   "id": "8304a076",
   "metadata": {
    "execution": {
     "iopub.execute_input": "2023-06-25T13:54:53.515392Z",
     "iopub.status.busy": "2023-06-25T13:54:53.515121Z",
     "iopub.status.idle": "2023-06-25T13:54:53.520006Z",
     "shell.execute_reply": "2023-06-25T13:54:53.519060Z"
    },
    "papermill": {
     "duration": 0.017461,
     "end_time": "2023-06-25T13:54:53.522315",
     "exception": false,
     "start_time": "2023-06-25T13:54:53.504854",
     "status": "completed"
    },
    "tags": []
   },
   "outputs": [],
   "source": [
    "def readimg(path):\n",
    "    img = cv.imread(path)\n",
    "\n",
    "    img = cv.resize(img,(80,80))\n",
    "    img = cv.cvtColor(img, cv.COLOR_BGR2GRAY)\n",
    "    img = cv.bitwise_not(img)\n",
    "    return img"
   ]
  },
  {
   "cell_type": "code",
   "execution_count": 8,
   "id": "fb1c8d39",
   "metadata": {
    "execution": {
     "iopub.execute_input": "2023-06-25T13:54:53.538438Z",
     "iopub.status.busy": "2023-06-25T13:54:53.538181Z",
     "iopub.status.idle": "2023-06-25T13:55:09.876088Z",
     "shell.execute_reply": "2023-06-25T13:55:09.874821Z"
    },
    "papermill": {
     "duration": 16.348713,
     "end_time": "2023-06-25T13:55:09.878528",
     "exception": false,
     "start_time": "2023-06-25T13:54:53.529815",
     "status": "completed"
    },
    "tags": []
   },
   "outputs": [],
   "source": [
    "#processing train data\n",
    "\n",
    "import multiprocessing\n",
    "\n",
    "# Create a Pool with 4 worker processes\n",
    "with multiprocessing.Pool(4) as p:\n",
    "    # Read in all of the images in parallel\n",
    "    images = p.map(readimg, df1['path'])\n",
    "train_images=np.array(images, dtype='float')\n",
    "# label encoder from sklearn\n",
    "le = preprocessing.LabelEncoder()\n",
    "train_labels = le.fit_transform(df1['label'])"
   ]
  },
  {
   "cell_type": "code",
   "execution_count": 9,
   "id": "d485140a",
   "metadata": {
    "execution": {
     "iopub.execute_input": "2023-06-25T13:55:09.896033Z",
     "iopub.status.busy": "2023-06-25T13:55:09.895694Z",
     "iopub.status.idle": "2023-06-25T13:55:11.997622Z",
     "shell.execute_reply": "2023-06-25T13:55:11.996356Z"
    },
    "papermill": {
     "duration": 2.113367,
     "end_time": "2023-06-25T13:55:12.000218",
     "exception": false,
     "start_time": "2023-06-25T13:55:09.886851",
     "status": "completed"
    },
    "tags": []
   },
   "outputs": [],
   "source": [
    "#processing val data\n",
    "\n",
    "import multiprocessing\n",
    "\n",
    "# Create a Pool with 4 worker processes\n",
    "with multiprocessing.Pool(4) as p:\n",
    "    # Read in all of the images in parallel\n",
    "    images = p.map(readimg, df2['path2'])\n",
    "val_images=np.array(images, dtype='float')\n",
    "# label encoder from sklearn\n",
    "le = preprocessing.LabelEncoder()\n",
    "val_labels = le.fit_transform(df2['label'])"
   ]
  },
  {
   "cell_type": "markdown",
   "id": "67c28e1e",
   "metadata": {
    "papermill": {
     "duration": 0.008303,
     "end_time": "2023-06-25T13:55:12.017099",
     "exception": false,
     "start_time": "2023-06-25T13:55:12.008796",
     "status": "completed"
    },
    "tags": []
   },
   "source": [
    "# CNN Model\n",
    "<a id=\"5\"></a> <br>"
   ]
  },
  {
   "cell_type": "code",
   "execution_count": 10,
   "id": "0e04c579",
   "metadata": {
    "execution": {
     "iopub.execute_input": "2023-06-25T13:55:12.035937Z",
     "iopub.status.busy": "2023-06-25T13:55:12.035032Z",
     "iopub.status.idle": "2023-06-25T13:55:15.106703Z",
     "shell.execute_reply": "2023-06-25T13:55:15.105771Z"
    },
    "papermill": {
     "duration": 3.083682,
     "end_time": "2023-06-25T13:55:15.109004",
     "exception": false,
     "start_time": "2023-06-25T13:55:12.025322",
     "status": "completed"
    },
    "tags": []
   },
   "outputs": [],
   "source": [
    "import tensorflow as tf\n",
    "from tensorflow import keras\n",
    "\n",
    "\n",
    "model = keras.Sequential([\n",
    "    keras.layers.InputLayer(input_shape=(80, 80, 1)),\n",
    "    \n",
    "    keras.layers.Conv2D(526, kernel_size=(3, 3), activation=\"relu\"),\n",
    "    keras.layers.MaxPooling2D(pool_size=(2, 2)),\n",
    "    keras.layers.BatchNormalization(),    \n",
    "    keras.layers.Conv2D(256, kernel_size=(3, 3), activation=\"relu\"),\n",
    "    keras.layers.MaxPooling2D(pool_size=(2, 2)),\n",
    "    keras.layers.BatchNormalization(),\n",
    "    keras.layers.Conv2D(128, kernel_size=(3, 3), activation=\"relu\"),\n",
    "    keras.layers.MaxPooling2D(pool_size=(2, 2)),\n",
    "    keras.layers.BatchNormalization(),\n",
    "    keras.layers.Conv2D(64, kernel_size=(3, 3), activation=\"relu\"),\n",
    "    keras.layers.MaxPooling2D(pool_size=(2, 2)),\n",
    "    keras.layers.BatchNormalization(),\n",
    "\n",
    "    keras.layers.Flatten(),\n",
    "    \n",
    "    keras.layers.Dense(28, activation=\"softmax\")\n",
    "])\n",
    "\n",
    "\n",
    "es = keras.callbacks.EarlyStopping(monitor='val_loss', mode='min', verbose=1, patience=5)\n",
    "\n",
    "\n",
    "from tensorflow.keras.optimizers import Adam\n",
    "\n",
    "opt = Adam(learning_rate=0.001)\n",
    "\n",
    "#model.compile(loss=\"categorical_crossentropy\", optimizer=opt, metrics=[\"accuracy\"])\n",
    "model.compile(optimizer=opt,\n",
    "              loss='SparseCategoricalCrossentropy',\n",
    "              metrics=['accuracy'])\n"
   ]
  },
  {
   "cell_type": "code",
   "execution_count": 11,
   "id": "e3706c04",
   "metadata": {
    "execution": {
     "iopub.execute_input": "2023-06-25T13:55:15.126143Z",
     "iopub.status.busy": "2023-06-25T13:55:15.125847Z",
     "iopub.status.idle": "2023-06-25T13:59:24.297590Z",
     "shell.execute_reply": "2023-06-25T13:59:24.296648Z"
    },
    "papermill": {
     "duration": 249.182641,
     "end_time": "2023-06-25T13:59:24.299850",
     "exception": false,
     "start_time": "2023-06-25T13:55:15.117209",
     "status": "completed"
    },
    "tags": []
   },
   "outputs": [
    {
     "name": "stdout",
     "output_type": "stream",
     "text": [
      "Epoch 1/30\n",
      "191/191 [==============================] - 21s 47ms/step - loss: 1.4098 - accuracy: 0.5989 - val_loss: 0.5576 - val_accuracy: 0.8269\n",
      "Epoch 2/30\n",
      "191/191 [==============================] - 8s 41ms/step - loss: 0.2922 - accuracy: 0.9271 - val_loss: 0.2441 - val_accuracy: 0.9432\n",
      "Epoch 3/30\n",
      "191/191 [==============================] - 8s 41ms/step - loss: 0.1148 - accuracy: 0.9782 - val_loss: 0.1662 - val_accuracy: 0.9574\n",
      "Epoch 4/30\n",
      "191/191 [==============================] - 8s 41ms/step - loss: 0.0541 - accuracy: 0.9916 - val_loss: 0.1351 - val_accuracy: 0.9690\n",
      "Epoch 5/30\n",
      "191/191 [==============================] - 8s 41ms/step - loss: 0.0270 - accuracy: 0.9969 - val_loss: 0.0951 - val_accuracy: 0.9767\n",
      "Epoch 6/30\n",
      "191/191 [==============================] - 8s 41ms/step - loss: 0.0121 - accuracy: 0.9993 - val_loss: 0.0764 - val_accuracy: 0.9793\n",
      "Epoch 7/30\n",
      "191/191 [==============================] - 8s 41ms/step - loss: 0.0077 - accuracy: 0.9993 - val_loss: 0.0720 - val_accuracy: 0.9780\n",
      "Epoch 8/30\n",
      "191/191 [==============================] - 8s 41ms/step - loss: 0.0088 - accuracy: 0.9995 - val_loss: 0.0629 - val_accuracy: 0.9845\n",
      "Epoch 9/30\n",
      "191/191 [==============================] - 8s 42ms/step - loss: 0.0041 - accuracy: 1.0000 - val_loss: 0.0635 - val_accuracy: 0.9780\n",
      "Epoch 10/30\n",
      "191/191 [==============================] - 8s 42ms/step - loss: 0.0025 - accuracy: 1.0000 - val_loss: 0.0581 - val_accuracy: 0.9793\n",
      "Epoch 11/30\n",
      "191/191 [==============================] - 8s 41ms/step - loss: 0.0015 - accuracy: 1.0000 - val_loss: 0.0541 - val_accuracy: 0.9793\n",
      "Epoch 12/30\n",
      "191/191 [==============================] - 8s 41ms/step - loss: 0.0831 - accuracy: 0.9754 - val_loss: 0.9085 - val_accuracy: 0.8127\n",
      "Epoch 13/30\n",
      "191/191 [==============================] - 8s 41ms/step - loss: 0.0647 - accuracy: 0.9829 - val_loss: 0.1251 - val_accuracy: 0.9664\n",
      "Epoch 14/30\n",
      "191/191 [==============================] - 8s 41ms/step - loss: 0.0150 - accuracy: 0.9970 - val_loss: 0.0574 - val_accuracy: 0.9819\n",
      "Epoch 15/30\n",
      "191/191 [==============================] - 8s 41ms/step - loss: 0.0031 - accuracy: 0.9997 - val_loss: 0.0625 - val_accuracy: 0.9819\n",
      "Epoch 16/30\n",
      "191/191 [==============================] - 8s 41ms/step - loss: 0.0041 - accuracy: 0.9997 - val_loss: 0.0438 - val_accuracy: 0.9871\n",
      "Epoch 17/30\n",
      "191/191 [==============================] - 8s 41ms/step - loss: 0.0011 - accuracy: 1.0000 - val_loss: 0.0457 - val_accuracy: 0.9871\n",
      "Epoch 18/30\n",
      "191/191 [==============================] - 8s 41ms/step - loss: 8.2564e-04 - accuracy: 1.0000 - val_loss: 0.0438 - val_accuracy: 0.9871\n",
      "Epoch 19/30\n",
      "191/191 [==============================] - 8s 41ms/step - loss: 6.5827e-04 - accuracy: 1.0000 - val_loss: 0.0441 - val_accuracy: 0.9871\n",
      "Epoch 20/30\n",
      "191/191 [==============================] - 8s 41ms/step - loss: 5.0408e-04 - accuracy: 1.0000 - val_loss: 0.0431 - val_accuracy: 0.9871\n",
      "Epoch 21/30\n",
      "191/191 [==============================] - 8s 41ms/step - loss: 4.6278e-04 - accuracy: 1.0000 - val_loss: 0.0439 - val_accuracy: 0.9871\n",
      "Epoch 22/30\n",
      "191/191 [==============================] - 8s 41ms/step - loss: 3.8954e-04 - accuracy: 1.0000 - val_loss: 0.0421 - val_accuracy: 0.9871\n",
      "Epoch 23/30\n",
      "191/191 [==============================] - 8s 41ms/step - loss: 3.5241e-04 - accuracy: 1.0000 - val_loss: 0.0418 - val_accuracy: 0.9884\n",
      "Epoch 24/30\n",
      "191/191 [==============================] - 8s 41ms/step - loss: 3.2467e-04 - accuracy: 1.0000 - val_loss: 0.0418 - val_accuracy: 0.9884\n",
      "Epoch 25/30\n",
      "191/191 [==============================] - 8s 41ms/step - loss: 2.8474e-04 - accuracy: 1.0000 - val_loss: 0.0414 - val_accuracy: 0.9871\n",
      "Epoch 26/30\n",
      "191/191 [==============================] - 8s 41ms/step - loss: 2.2838e-04 - accuracy: 1.0000 - val_loss: 0.0425 - val_accuracy: 0.9884\n",
      "Epoch 27/30\n",
      "191/191 [==============================] - 8s 41ms/step - loss: 2.1706e-04 - accuracy: 1.0000 - val_loss: 0.0411 - val_accuracy: 0.9884\n",
      "Epoch 28/30\n",
      "191/191 [==============================] - 8s 41ms/step - loss: 1.8721e-04 - accuracy: 1.0000 - val_loss: 0.0416 - val_accuracy: 0.9884\n",
      "Epoch 29/30\n",
      "191/191 [==============================] - 8s 41ms/step - loss: 1.7041e-04 - accuracy: 1.0000 - val_loss: 0.0410 - val_accuracy: 0.9884\n",
      "Epoch 30/30\n",
      "191/191 [==============================] - 8s 41ms/step - loss: 1.5636e-04 - accuracy: 1.0000 - val_loss: 0.0412 - val_accuracy: 0.9884\n"
     ]
    },
    {
     "data": {
      "text/plain": [
       "<keras.callbacks.History at 0x7a6051fd28f0>"
      ]
     },
     "execution_count": 11,
     "metadata": {},
     "output_type": "execute_result"
    }
   ],
   "source": [
    "model.fit(train_images,train_labels, epochs=30, batch_size=32,validation_data=(val_images, val_labels))"
   ]
  },
  {
   "cell_type": "markdown",
   "id": "5974b517",
   "metadata": {
    "papermill": {
     "duration": 0.274476,
     "end_time": "2023-06-25T13:59:24.808804",
     "exception": false,
     "start_time": "2023-06-25T13:59:24.534328",
     "status": "completed"
    },
    "tags": []
   },
   "source": [
    "# Test set pre-processing"
   ]
  },
  {
   "cell_type": "code",
   "execution_count": 12,
   "id": "c39555d9",
   "metadata": {
    "execution": {
     "iopub.execute_input": "2023-06-25T13:59:25.266186Z",
     "iopub.status.busy": "2023-06-25T13:59:25.265831Z",
     "iopub.status.idle": "2023-06-25T13:59:25.279566Z",
     "shell.execute_reply": "2023-06-25T13:59:25.278690Z"
    },
    "papermill": {
     "duration": 0.24935,
     "end_time": "2023-06-25T13:59:25.281735",
     "exception": false,
     "start_time": "2023-06-25T13:59:25.032385",
     "status": "completed"
    },
    "tags": []
   },
   "outputs": [],
   "source": [
    "path = \"/kaggle/working/dataset/test\"\n",
    "key_value= dict()\n",
    "for i in os.listdir(path2):\n",
    "    if os.path.isdir(os.path.join(path, i)):\n",
    "        key_value[i] = os.listdir(os.path.join(path, i))\n",
    "dft = []\n",
    "for key in key_value.keys():\n",
    "    for j in key_value[key]:\n",
    "        dft.append([key,path+'/'+key+'/'+j])\n",
    "dft = pd.DataFrame(dft,columns=('label','path'))"
   ]
  },
  {
   "cell_type": "code",
   "execution_count": 13,
   "id": "3d7c0e3a",
   "metadata": {
    "execution": {
     "iopub.execute_input": "2023-06-25T13:59:25.729565Z",
     "iopub.status.busy": "2023-06-25T13:59:25.729209Z",
     "iopub.status.idle": "2023-06-25T13:59:30.685434Z",
     "shell.execute_reply": "2023-06-25T13:59:30.684161Z"
    },
    "papermill": {
     "duration": 5.182386,
     "end_time": "2023-06-25T13:59:30.687976",
     "exception": false,
     "start_time": "2023-06-25T13:59:25.505590",
     "status": "completed"
    },
    "tags": []
   },
   "outputs": [],
   "source": [
    "with multiprocessing.Pool(4) as p:\n",
    "    # Read in all of the images in parallel\n",
    "    test_images = p.map(readimg, dft['path'])"
   ]
  },
  {
   "cell_type": "code",
   "execution_count": 14,
   "id": "8b2c568f",
   "metadata": {
    "execution": {
     "iopub.execute_input": "2023-06-25T13:59:31.139809Z",
     "iopub.status.busy": "2023-06-25T13:59:31.139414Z",
     "iopub.status.idle": "2023-06-25T13:59:31.172346Z",
     "shell.execute_reply": "2023-06-25T13:59:31.171359Z"
    },
    "papermill": {
     "duration": 0.262307,
     "end_time": "2023-06-25T13:59:31.174712",
     "exception": false,
     "start_time": "2023-06-25T13:59:30.912405",
     "status": "completed"
    },
    "tags": []
   },
   "outputs": [],
   "source": [
    "test_images=np.array(test_images, dtype='float')\n",
    "# label encoder from sklearn\n",
    "le = preprocessing.LabelEncoder()\n",
    "test_labels = le.fit_transform(dft['label'])"
   ]
  },
  {
   "cell_type": "code",
   "execution_count": 15,
   "id": "4309e4c6",
   "metadata": {
    "execution": {
     "iopub.execute_input": "2023-06-25T13:59:31.628942Z",
     "iopub.status.busy": "2023-06-25T13:59:31.627955Z",
     "iopub.status.idle": "2023-06-25T13:59:32.933624Z",
     "shell.execute_reply": "2023-06-25T13:59:32.932655Z"
    },
    "papermill": {
     "duration": 1.536355,
     "end_time": "2023-06-25T13:59:32.935780",
     "exception": false,
     "start_time": "2023-06-25T13:59:31.399425",
     "status": "completed"
    },
    "tags": []
   },
   "outputs": [
    {
     "name": "stdout",
     "output_type": "stream",
     "text": [
      "58/58 [==============================] - 1s 16ms/step\n",
      "Accuracy: 0.9784366576819407\n"
     ]
    }
   ],
   "source": [
    "from sklearn.metrics import accuracy_score\n",
    "\n",
    "# Make predictions on the test data\n",
    "predictions = model.predict(test_images)\n",
    "\n",
    "# Convert the predictions to the class labels\n",
    "predicted_labels = np.argmax(predictions, axis=1)\n",
    "\n",
    "# Compute the accuracy score\n",
    "accuracy = accuracy_score(test_labels, predicted_labels)\n",
    "\n",
    "print('Accuracy:', accuracy)"
   ]
  },
  {
   "cell_type": "code",
   "execution_count": 16,
   "id": "0071463a",
   "metadata": {
    "execution": {
     "iopub.execute_input": "2023-06-25T13:59:33.397958Z",
     "iopub.status.busy": "2023-06-25T13:59:33.397585Z",
     "iopub.status.idle": "2023-06-25T13:59:33.418396Z",
     "shell.execute_reply": "2023-06-25T13:59:33.416747Z"
    },
    "papermill": {
     "duration": 0.252859,
     "end_time": "2023-06-25T13:59:33.420535",
     "exception": false,
     "start_time": "2023-06-25T13:59:33.167676",
     "status": "completed"
    },
    "tags": []
   },
   "outputs": [
    {
     "name": "stdout",
     "output_type": "stream",
     "text": [
      "              precision    recall  f1-score   support\n",
      "\n",
      "           0       0.98      1.00      0.99        65\n",
      "           1       1.00      0.98      0.99        64\n",
      "           2       0.98      0.95      0.97        66\n",
      "           3       1.00      0.98      0.99        55\n",
      "           4       1.00      0.98      0.99        66\n",
      "           5       1.00      0.97      0.98        66\n",
      "           6       1.00      1.00      1.00        68\n",
      "           7       0.96      0.98      0.97        65\n",
      "           8       0.98      0.98      0.98        64\n",
      "           9       0.96      0.97      0.96        68\n",
      "          10       0.98      0.93      0.95        56\n",
      "          11       1.00      1.00      1.00        66\n",
      "          12       0.98      0.98      0.98        65\n",
      "          13       0.99      0.99      0.99        84\n",
      "          14       1.00      1.00      1.00        82\n",
      "          15       0.94      1.00      0.97        66\n",
      "          16       1.00      0.95      0.98        66\n",
      "          17       0.97      0.95      0.96        66\n",
      "          18       0.97      0.97      0.97        65\n",
      "          19       0.94      0.94      0.94        71\n",
      "          20       0.96      0.94      0.95        70\n",
      "          21       0.97      1.00      0.98        63\n",
      "          22       0.99      1.00      0.99        66\n",
      "          23       0.98      0.98      0.98        66\n",
      "          24       0.96      0.97      0.96        66\n",
      "          25       0.92      0.97      0.94        60\n",
      "          26       1.00      0.98      0.99        65\n",
      "          27       0.98      1.00      0.99        65\n",
      "\n",
      "    accuracy                           0.98      1855\n",
      "   macro avg       0.98      0.98      0.98      1855\n",
      "weighted avg       0.98      0.98      0.98      1855\n",
      "\n"
     ]
    }
   ],
   "source": [
    "from sklearn.metrics import confusion_matrix\n",
    "\n",
    "cm=confusion_matrix(test_labels, predicted_labels)\n",
    "\n",
    "from sklearn.metrics import classification_report\n",
    "from sklearn.preprocessing import LabelEncoder\n",
    "\n",
    "\n",
    "# Assuming y_true is the true labels and y_pred is the predicted labels\n",
    "print(classification_report(test_labels, predicted_labels))\n",
    "\n",
    "test_labels = le.inverse_transform(test_labels)"
   ]
  },
  {
   "cell_type": "code",
   "execution_count": 17,
   "id": "521f58dc",
   "metadata": {
    "execution": {
     "iopub.execute_input": "2023-06-25T13:59:34.005141Z",
     "iopub.status.busy": "2023-06-25T13:59:34.004772Z",
     "iopub.status.idle": "2023-06-25T13:59:36.156506Z",
     "shell.execute_reply": "2023-06-25T13:59:36.155586Z"
    },
    "papermill": {
     "duration": 2.395527,
     "end_time": "2023-06-25T13:59:36.160036",
     "exception": false,
     "start_time": "2023-06-25T13:59:33.764509",
     "status": "completed"
    },
    "tags": []
   },
   "outputs": [
    {
     "data": {
      "image/png": "[encoded data removed]",
      "text/plain": [
       "<Figure size 640x480 with 2 Axes>"
      ]
     },
     "metadata": {},
     "output_type": "display_data"
    }
   ],
   "source": [
    "import seaborn as sns\n",
    "\n",
    "sns.heatmap(cm, annot=True, cmap=\"Blues\")\n",
    "plt.xlabel(\"Predicted\")\n",
    "plt.ylabel(\"Actual\")\n",
    "plt.show()"
   ]
  },
  {
   "cell_type": "markdown",
   "id": "5c843e14",
   "metadata": {
    "papermill": {
     "duration": 0.227015,
     "end_time": "2023-06-25T13:59:36.617620",
     "exception": false,
     "start_time": "2023-06-25T13:59:36.390605",
     "status": "completed"
    },
    "tags": []
   },
   "source": [
    "Saving the model"
   ]
  },
  {
   "cell_type": "code",
   "execution_count": 18,
   "id": "ef5daef4",
   "metadata": {
    "execution": {
     "iopub.execute_input": "2023-06-25T13:59:37.090355Z",
     "iopub.status.busy": "2023-06-25T13:59:37.089990Z",
     "iopub.status.idle": "2023-06-25T13:59:37.191122Z",
     "shell.execute_reply": "2023-06-25T13:59:37.190129Z"
    },
    "papermill": {
     "duration": 0.350338,
     "end_time": "2023-06-25T13:59:37.193552",
     "exception": false,
     "start_time": "2023-06-25T13:59:36.843214",
     "status": "completed"
    },
    "tags": []
   },
   "outputs": [],
   "source": [
    "model.save('/kaggle/working/arabic1.h5')\n"
   ]
  },
  {
   "cell_type": "code",
   "execution_count": null,
   "id": "9cb12148",
   "metadata": {
    "papermill": {
     "duration": 0.225515,
     "end_time": "2023-06-25T13:59:37.648012",
     "exception": false,
     "start_time": "2023-06-25T13:59:37.422497",
     "status": "completed"
    },
    "tags": []
   },
   "outputs": [],
   "source": []
  }
 ],
 "metadata": {
  "kernelspec": {
   "display_name": "Python 3",
   "language": "python",
   "name": "python3"
  },
  "language_info": {
   "codemirror_mode": {
    "name": "ipython",
    "version": 3
   },
   "file_extension": ".py",
   "mimetype": "text/x-python",
   "name": "python",
   "nbconvert_exporter": "python",
   "pygments_lexer": "ipython3",
   "version": "3.10.10"
  },
  "papermill": {
   "default_parameters": {},
   "duration": 364.899361,
   "end_time": "2023-06-25T13:59:41.213750",
   "environment_variables": {},
   "exception": null,
   "input_path": "__notebook__.ipynb",
   "output_path": "__notebook__.ipynb",
   "parameters": {},
   "start_time": "2023-06-25T13:53:36.314389",
   "version": "2.4.0"
  }
 },
 "nbformat": 4,
 "nbformat_minor": 5
}
